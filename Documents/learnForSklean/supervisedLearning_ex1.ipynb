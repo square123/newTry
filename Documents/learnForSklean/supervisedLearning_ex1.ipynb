{
 "cells": [
  {
   "cell_type": "code",
   "execution_count": 24,
   "metadata": {},
   "outputs": [],
   "source": [
    "'''监督学习——练习1'''\n",
    "# 导入数据和外部库\n",
    "from sklearn import datasets,neighbors,linear_model\n",
    "import numpy as np\n",
    "digits = datasets.load_digits()\n",
    "X_digits = digits.data\n",
    "y_digits = digits.target"
   ]
  },
  {
   "cell_type": "code",
   "execution_count": 26,
   "metadata": {},
   "outputs": [],
   "source": [
    "# 将数据打乱随机排列\n",
    "np.random.seed(0)\n",
    "n_len = len(y_digits)\n",
    "indices = np.random.permutation(n_len)\n",
    "# 构造训练集和测试集\n",
    "X_digits_train = X_digits[indices[:int(.9*n_len)]]\n",
    "y_digits_train = y_digits[indices[:int(.9*n_len)]]\n",
    "X_digits_test = X_digits[indices[int(.9*n_len):]]\n",
    "y_digits_test = y_digits[indices[int(.9*n_len):]]"
   ]
  },
  {
   "cell_type": "code",
   "execution_count": 27,
   "metadata": {},
   "outputs": [
    {
     "name": "stdout",
     "output_type": "stream",
     "text": [
      "KNN score: 0.994444\n",
      "Logistic score: 0.950000\n"
     ]
    }
   ],
   "source": [
    "# 使用knn 和 logistic回归来进行分类\n",
    "# 构建模型\n",
    "knn = neighbors.KNeighborsClassifier()\n",
    "logistic = linear_model.LogisticRegression()\n",
    "# 训练模型\n",
    "knn.fit(X_digits_train,y_digits_train)\n",
    "logistic.fit(X_digits_train,y_digits_train)\n",
    "# 计算分数 比较\n",
    "print('KNN score: %f' % knn.score(X_digits_test,y_digits_test))\n",
    "print('Logistic score: %f' %logistic.score(X_digits_test,y_digits_test))"
   ]
  }
 ],
 "metadata": {
  "kernelspec": {
   "display_name": "Python 2",
   "language": "python",
   "name": "python2"
  },
  "language_info": {
   "codemirror_mode": {
    "name": "ipython",
    "version": 2
   },
   "file_extension": ".py",
   "mimetype": "text/x-python",
   "name": "python",
   "nbconvert_exporter": "python",
   "pygments_lexer": "ipython2",
   "version": "2.7.12"
  }
 },
 "nbformat": 4,
 "nbformat_minor": 2
}
